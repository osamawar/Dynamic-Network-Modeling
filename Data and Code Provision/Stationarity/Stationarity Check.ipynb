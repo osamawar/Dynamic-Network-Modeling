{
 "cells": [
  {
   "cell_type": "markdown",
   "id": "69781f03-eb0b-4b31-bac8-830465fb5cbe",
   "metadata": {},
   "source": [
    "## Stationarity Check"
   ]
  },
  {
   "cell_type": "code",
   "execution_count": 3,
   "id": "54fec3fe-5d89-4ca3-8042-42d0957a1010",
   "metadata": {},
   "outputs": [],
   "source": [
    "import pandas as pd\n",
    "import numpy as np\n",
    "from statsmodels.tsa.stattools import adfuller, kpss"
   ]
  },
  {
   "cell_type": "markdown",
   "id": "05846345-d60e-4ded-b455-1799503283ef",
   "metadata": {},
   "source": [
    "**Read Data**"
   ]
  },
  {
   "cell_type": "code",
   "execution_count": null,
   "id": "d9c99a1c-1d36-4608-958e-f0a9dd5f7d84",
   "metadata": {},
   "outputs": [],
   "source": [
    "path=r'aggregation_diff_scaled_df.csv'\n",
    "aggregation_diff_scaled_df = pd.read_csv(path,index_col=0)"
   ]
  },
  {
   "cell_type": "markdown",
   "id": "a2363fd9-c1e7-4e25-a061-60b9298d7f75",
   "metadata": {},
   "source": [
    "**Method to check stationarity for every time series with ADF- and KPSS test**"
   ]
  },
  {
   "cell_type": "code",
   "execution_count": 4,
   "id": "5a45dc1f-5649-48b7-99dd-ec1f3fad2dc4",
   "metadata": {
    "tags": []
   },
   "outputs": [],
   "source": [
    "def adf_kpss_tests(dataframe, excel_filepath):\n",
    "    # Create an empty list to store individual DataFrames\n",
    "    dfs = []\n",
    "\n",
    "    # Significance level for the decision\n",
    "    alpha = 0.05\n",
    "\n",
    "    # Iterate over each column (bid zone) in the DataFrame\n",
    "    for bid_zone in dataframe.columns:\n",
    "        # Extract the time series for the current bid zone\n",
    "        time_series = dataframe[bid_zone]\n",
    "\n",
    "        # Perform the ADF test\n",
    "        adf_test_stat, adf_p_value, _, _, adf_critical_values, _ = adfuller(time_series.dropna())\n",
    "\n",
    "        # Perform the KPSS test\n",
    "        kpss_test_stat, kpss_p_value, _, kpss_critical_values = kpss(time_series.dropna(), regression='c')\n",
    "\n",
    "        # Decide for ADF test\n",
    "        if adf_p_value <= alpha:\n",
    "            adf_decision = 'Reject H0'\n",
    "        else:\n",
    "            adf_decision = 'Fail to reject H0'\n",
    "\n",
    "        # Decide for KPSS test\n",
    "        if kpss_p_value <= alpha:\n",
    "            kpss_decision = 'Reject H0'\n",
    "        else:\n",
    "            kpss_decision = 'Fail to reject H0'\n",
    "\n",
    "        # Create a DataFrame for the current bid zone\n",
    "        result_df = pd.DataFrame({\n",
    "            'Bidding Zone': [bid_zone],\n",
    "            'ADF Test Statistic': [adf_test_stat],\n",
    "            'ADF p-Value': [adf_p_value],\n",
    "            'ADF Critical Value (5%)': [adf_critical_values['5%']],\n",
    "            'ADF Decision': [adf_decision],\n",
    "            'KPSS Test Statistic': [kpss_test_stat],\n",
    "            'KPSS p-Value': [kpss_p_value],\n",
    "            'KPSS Critical Value (5%)': [kpss_critical_values['5%']],\n",
    "            'KPSS Decision': [kpss_decision]\n",
    "        })\n",
    "\n",
    "        # Append the DataFrame to the list\n",
    "        dfs.append(result_df)\n",
    "\n",
    "    # Concatenate all DataFrames in the list\n",
    "    result_df = pd.concat(dfs, ignore_index=True)\n",
    "\n",
    "    # Save the result_df to an Excel file\n",
    "    result_df.to_excel(excel_filepath, index=False)"
   ]
  },
  {
   "cell_type": "markdown",
   "id": "4b5073e1-6c9e-4bd6-a503-b8ce4cd43067",
   "metadata": {},
   "source": [
    "**ADF and KPSS Test for transformed Data**"
   ]
  },
  {
   "cell_type": "code",
   "execution_count": null,
   "id": "0094e087-ca64-45b0-b234-e3000a9bdc2c",
   "metadata": {},
   "outputs": [],
   "source": [
    "adf_kpss_tests(aggregation_diff_scaled_df, r'ADF_and_KPSS_Tests_Results aggregation_diff_scaled_df.xlsx')"
   ]
  }
 ],
 "metadata": {
  "kernelspec": {
   "display_name": "Python 3 (ipykernel)",
   "language": "python",
   "name": "python3"
  },
  "language_info": {
   "codemirror_mode": {
    "name": "ipython",
    "version": 3
   },
   "file_extension": ".py",
   "mimetype": "text/x-python",
   "name": "python",
   "nbconvert_exporter": "python",
   "pygments_lexer": "ipython3",
   "version": "3.10.9"
  }
 },
 "nbformat": 4,
 "nbformat_minor": 5
}
