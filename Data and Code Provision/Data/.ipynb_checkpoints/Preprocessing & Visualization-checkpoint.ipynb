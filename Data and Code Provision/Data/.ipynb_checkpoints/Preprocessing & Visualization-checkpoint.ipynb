{
 "cells": [
  {
   "cell_type": "markdown",
   "id": "79ca7ed4-0cb7-4e9b-9532-a5c0ade6f86d",
   "metadata": {},
   "source": [
    "## Preprocessing & Visualization"
   ]
  },
  {
   "cell_type": "markdown",
   "id": "74c809b1-9e9d-4b14-9b1a-cdfe8333e521",
   "metadata": {},
   "source": [
    "**Import packages**"
   ]
  },
  {
   "cell_type": "code",
   "execution_count": 1,
   "id": "b4236f43-f76e-43a3-9abc-9b00c48a0be0",
   "metadata": {
    "tags": []
   },
   "outputs": [],
   "source": [
    "# Import basic system and data processing libraries\n",
    "import os\n",
    "\n",
    "# Pandas for data manipulation and analysis\n",
    "import pandas as pd\n",
    "\n",
    "# NumPy for numerical calculations\n",
    "import numpy as np\n",
    "\n",
    "# Matplotlib for data visualization\n",
    "import matplotlib.pyplot as plt\n",
    "# PdfPages from Matplotlib for creating PDF documents\n",
    "from matplotlib.backends.backend_pdf import PdfPages\n",
    "\n",
    "# Checking for Multicollinearity\n",
    "from statsmodels.stats.outliers_influence import variance_inflation_factor\n",
    "\n",
    "# NetworkX for network visualization\n",
    "import networkx as nx\n",
    "\n",
    "# Pdfkit for converting HTML/CSS to PDF\n",
    "import pdfkit\n",
    "\n",
    "# StandardScaler from Scikit-learn for data standardization\n",
    "from sklearn.preprocessing import StandardScaler\n",
    "\n",
    "# FPDF for creating PDF documents\n",
    "from fpdf import FPDF"
   ]
  },
  {
   "cell_type": "markdown",
   "id": "01b56636-4097-4068-9972-2b222e67515a",
   "metadata": {},
   "source": [
    "**Method to plot every ts in a single pdf**"
   ]
  },
  {
   "cell_type": "code",
   "execution_count": 2,
   "id": "be5394df-938e-4233-a5f5-6c12e18fbe3a",
   "metadata": {},
   "outputs": [],
   "source": [
    "def plot_all_series_to_pdf(file_path, data_frame, y_axis='DAY-AHEAD_PRICE', split_date= None, xlim_start='2015-06-01', xlim_end='2024-06-01'):\n",
    "    \"\"\"\n",
    "    Create a plot with all columns in the DataFrame and save it in a PDF file.\n",
    "\n",
    "    Parameters:\n",
    "        file_path (str): The file path where the PDF file should be saved.\n",
    "        data_frame (pd.DataFrame): The DataFrame containing the data for the plots.\n",
    "        y_axis (str): The name of the y-axis. Default is 'DAY-AHEAD_PRICE'.\n",
    "        split_date (str or None): The split date for the red dashed vertical line. Default is None.\n",
    "        xlim_start (str): The start date for the x-axis limit. Default is '2015-06-01'.\n",
    "        xlim_end (str): The end date for the x-axis limit. Default is '2024-06-01'.\n",
    "    \"\"\"\n",
    "    pdf_pages = PdfPages(file_path)\n",
    "    \n",
    "    plt.figure(figsize=(12, 6))\n",
    "    \n",
    "    # Plot all columns in the DataFrame\n",
    "    for column_name in data_frame.columns:\n",
    "        plt.plot(data_frame.index, data_frame[column_name], label=column_name)\n",
    "    \n",
    "    plt.xlabel('')\n",
    "    plt.ylabel(y_axis)\n",
    "    plt.legend(loc='upper left', bbox_to_anchor=(1, 1), ncol=1, fontsize='small')\n",
    "    plt.grid(True)\n",
    "    \n",
    "    # Add the red dashed vertical line only if a split date is provided\n",
    "    if split_date is not None:\n",
    "        split_date = pd.to_datetime(split_date)  \n",
    "        plt.axvline(x=split_date, color='red', linestyle='--', label='Split Date')\n",
    "    \n",
    "    # Set x-axis limits\n",
    "    plt.xlim(pd.to_datetime(xlim_start), pd.to_datetime(xlim_end))\n",
    "    \n",
    "    # Save the plot to the PDF\n",
    "    pdf_pages.savefig(plt.gcf(), bbox_inches='tight')\n",
    "    plt.close()\n",
    "    \n",
    "    pdf_pages.close()"
   ]
  },
  {
   "cell_type": "markdown",
   "id": "9e3e564e-02fc-4898-91af-0159acb55e6c",
   "metadata": {},
   "source": [
    "**Read Data**"
   ]
  },
  {
   "cell_type": "code",
   "execution_count": 3,
   "id": "da10d78c-b68e-417d-9053-f6ae962a2895",
   "metadata": {},
   "outputs": [],
   "source": [
    "path = r'Data (daily).csv'\n",
    "entsoe_prc_dly = pd.read_csv(path)"
   ]
  },
  {
   "cell_type": "code",
   "execution_count": 4,
   "id": "c81fdb92-4522-41f2-9b0a-0aa7eb46a04b",
   "metadata": {},
   "outputs": [],
   "source": [
    "# Create a date range from \"29.04.2016\" to \"01.01.2024\" on a daily basis and set it as the index in the DataFrame\n",
    "entsoe_prc_dly.index = pd.date_range(start=\"2016-04-29\", end=\"2024-01-01\", freq='D')"
   ]
  },
  {
   "cell_type": "markdown",
   "id": "6030092d-1c42-4340-889b-7d1a0221b4fb",
   "metadata": {},
   "source": [
    "**Special Treatment for Poland (PL) bc of currency switch**"
   ]
  },
  {
   "cell_type": "code",
   "execution_count": 5,
   "id": "ddba30c7-13c5-43a8-8291-71124deb9719",
   "metadata": {},
   "outputs": [],
   "source": [
    "path2 = r'PLN_EUR_EXCHANGE.xlsx'\n",
    "exchange_rate = pd.read_excel(path2, usecols=['TIME_PERIOD', 'OBS_VALUE']).set_index('TIME_PERIOD')"
   ]
  },
  {
   "cell_type": "code",
   "execution_count": 6,
   "id": "44336372-bfdd-4580-bef7-6ca7b77e3818",
   "metadata": {},
   "outputs": [],
   "source": [
    "entsoe_prc_dly.index = pd.to_datetime(entsoe_prc_dly.index)\n",
    "exchange_rate.index = pd.to_datetime(exchange_rate.index)\n",
    "\n",
    "# Filter the daily means for the period from 02.03.2017 to 19.11.2019\n",
    "start_date = \"2017-03-02\"\n",
    "end_date = \"2019-11-19\"\n",
    "pln_prices = entsoe_prc_dly[start_date:end_date]['PL']\n",
    "\n",
    "# Filter the EUR/PLN exchange rate for the same period\n",
    "exchange_rates = exchange_rate[start_date:end_date]\n",
    "\n",
    "# Fill in the missing exchange rates with the last available values\n",
    "exchange_rates = exchange_rates.reindex(pd.date_range(start=start_date, end=end_date, freq='D'))\n",
    "exchange_rates['OBS_VALUE'].fillna(method='ffill', inplace=True)\n",
    "\n",
    "# Convert PLN to EUR\n",
    "eur_prices = pln_prices / exchange_rates['OBS_VALUE']\n",
    "\n",
    "# Update the PL column\n",
    "entsoe_prc_dly.loc[start_date:end_date, 'PL'] = eur_prices"
   ]
  },
  {
   "cell_type": "markdown",
   "id": "ce2e07ee-ed02-4632-89d3-6dde725180ea",
   "metadata": {},
   "source": [
    "**Selection of appropriate Time Series for further analysis**  \n",
    "Selection Criteria: Completeness and Consistency (see Appendix)"
   ]
  },
  {
   "cell_type": "code",
   "execution_count": 7,
   "id": "777b2707-cc2a-4d1d-bdb7-92a8296fe1f7",
   "metadata": {},
   "outputs": [],
   "source": [
    "selected_zones = entsoe_prc_dly[['AT', 'BE', 'CH', 'CZ', 'DE.AT.LU', 'DE.LU', 'DK.1', 'DK.2', 'EE', 'ES', 'FI', 'FR', 'GR', 'HU', 'IT.CNOR', 'IT.CSUD', 'IT.NORD', 'IT.SARD', 'IT.SICI', 'IT.SUD', 'LT', 'LV', 'NL', 'NO.1', 'NO.2', 'NO.3', 'NO.4', 'NO.5', 'PL', 'PT', 'SE.1', 'SE.2', 'SE.3','SE.4', 'SI', 'SK']]"
   ]
  },
  {
   "cell_type": "markdown",
   "id": "0d3acb7b-6766-4647-9bc7-7741394f0f40",
   "metadata": {},
   "source": [
    "**Assessing Multicollinearity in Countries Comprising Multiple Bidding Zones**  "
   ]
  },
  {
   "cell_type": "code",
   "execution_count": 8,
   "id": "925202a1-f9ba-48d3-babe-186b3330e8c6",
   "metadata": {},
   "outputs": [
    {
     "data": {
      "text/html": [
       "<div>\n",
       "<style scoped>\n",
       "    .dataframe tbody tr th:only-of-type {\n",
       "        vertical-align: middle;\n",
       "    }\n",
       "\n",
       "    .dataframe tbody tr th {\n",
       "        vertical-align: top;\n",
       "    }\n",
       "\n",
       "    .dataframe thead th {\n",
       "        text-align: right;\n",
       "    }\n",
       "</style>\n",
       "<table border=\"1\" class=\"dataframe\">\n",
       "  <thead>\n",
       "    <tr style=\"text-align: right;\">\n",
       "      <th></th>\n",
       "      <th>Variable</th>\n",
       "      <th>VIF</th>\n",
       "    </tr>\n",
       "  </thead>\n",
       "  <tbody>\n",
       "    <tr>\n",
       "      <th>0</th>\n",
       "      <td>DK.1</td>\n",
       "      <td>76.560437</td>\n",
       "    </tr>\n",
       "    <tr>\n",
       "      <th>1</th>\n",
       "      <td>DK.2</td>\n",
       "      <td>76.560437</td>\n",
       "    </tr>\n",
       "  </tbody>\n",
       "</table>\n",
       "</div>"
      ],
      "text/plain": [
       "  Variable        VIF\n",
       "0     DK.1  76.560437\n",
       "1     DK.2  76.560437"
      ]
     },
     "execution_count": 8,
     "metadata": {},
     "output_type": "execute_result"
    }
   ],
   "source": [
    "denmark_df = selected_zones.filter(like='DK')\n",
    "vif_data = pd.DataFrame()\n",
    "vif_data[\"Variable\"] = denmark_df.columns\n",
    "vif_data[\"VIF\"] = [variance_inflation_factor(denmark_df.values, i) for i in range(denmark_df.shape[1])]\n",
    "vif_data"
   ]
  },
  {
   "cell_type": "code",
   "execution_count": 10,
   "id": "65536304-4e4e-440b-af0b-f1f83a2573e0",
   "metadata": {
    "tags": []
   },
   "outputs": [
    {
     "data": {
      "text/html": [
       "<div>\n",
       "<style scoped>\n",
       "    .dataframe tbody tr th:only-of-type {\n",
       "        vertical-align: middle;\n",
       "    }\n",
       "\n",
       "    .dataframe tbody tr th {\n",
       "        vertical-align: top;\n",
       "    }\n",
       "\n",
       "    .dataframe thead th {\n",
       "        text-align: right;\n",
       "    }\n",
       "</style>\n",
       "<table border=\"1\" class=\"dataframe\">\n",
       "  <thead>\n",
       "    <tr style=\"text-align: right;\">\n",
       "      <th></th>\n",
       "      <th>Variable</th>\n",
       "      <th>VIF</th>\n",
       "    </tr>\n",
       "  </thead>\n",
       "  <tbody>\n",
       "    <tr>\n",
       "      <th>0</th>\n",
       "      <td>IT.CNOR</td>\n",
       "      <td>2692.339282</td>\n",
       "    </tr>\n",
       "    <tr>\n",
       "      <th>1</th>\n",
       "      <td>IT.CSUD</td>\n",
       "      <td>1140.250965</td>\n",
       "    </tr>\n",
       "    <tr>\n",
       "      <th>2</th>\n",
       "      <td>IT.NORD</td>\n",
       "      <td>2238.325097</td>\n",
       "    </tr>\n",
       "    <tr>\n",
       "      <th>3</th>\n",
       "      <td>IT.SARD</td>\n",
       "      <td>67.881810</td>\n",
       "    </tr>\n",
       "    <tr>\n",
       "      <th>4</th>\n",
       "      <td>IT.SICI</td>\n",
       "      <td>96.920226</td>\n",
       "    </tr>\n",
       "    <tr>\n",
       "      <th>5</th>\n",
       "      <td>IT.SUD</td>\n",
       "      <td>774.389943</td>\n",
       "    </tr>\n",
       "  </tbody>\n",
       "</table>\n",
       "</div>"
      ],
      "text/plain": [
       "  Variable          VIF\n",
       "0  IT.CNOR  2692.339282\n",
       "1  IT.CSUD  1140.250965\n",
       "2  IT.NORD  2238.325097\n",
       "3  IT.SARD    67.881810\n",
       "4  IT.SICI    96.920226\n",
       "5   IT.SUD   774.389943"
      ]
     },
     "execution_count": 10,
     "metadata": {},
     "output_type": "execute_result"
    }
   ],
   "source": [
    "italy_df = selected_zones.filter(like='IT')\n",
    "vif_data = pd.DataFrame()\n",
    "vif_data[\"Variable\"] = italy_df.columns\n",
    "vif_data[\"VIF\"] = [variance_inflation_factor(italy_df.values, i) for i in range(italy_df.shape[1])]\n",
    "vif_data"
   ]
  },
  {
   "cell_type": "code",
   "execution_count": 11,
   "id": "697c31a5-7852-47ed-a0c5-968573335c65",
   "metadata": {},
   "outputs": [
    {
     "data": {
      "text/html": [
       "<div>\n",
       "<style scoped>\n",
       "    .dataframe tbody tr th:only-of-type {\n",
       "        vertical-align: middle;\n",
       "    }\n",
       "\n",
       "    .dataframe tbody tr th {\n",
       "        vertical-align: top;\n",
       "    }\n",
       "\n",
       "    .dataframe thead th {\n",
       "        text-align: right;\n",
       "    }\n",
       "</style>\n",
       "<table border=\"1\" class=\"dataframe\">\n",
       "  <thead>\n",
       "    <tr style=\"text-align: right;\">\n",
       "      <th></th>\n",
       "      <th>Variable</th>\n",
       "      <th>VIF</th>\n",
       "    </tr>\n",
       "  </thead>\n",
       "  <tbody>\n",
       "    <tr>\n",
       "      <th>0</th>\n",
       "      <td>NO.1</td>\n",
       "      <td>1218.404615</td>\n",
       "    </tr>\n",
       "    <tr>\n",
       "      <th>1</th>\n",
       "      <td>NO.2</td>\n",
       "      <td>36.272237</td>\n",
       "    </tr>\n",
       "    <tr>\n",
       "      <th>2</th>\n",
       "      <td>NO.3</td>\n",
       "      <td>10.642033</td>\n",
       "    </tr>\n",
       "    <tr>\n",
       "      <th>3</th>\n",
       "      <td>NO.4</td>\n",
       "      <td>8.804177</td>\n",
       "    </tr>\n",
       "    <tr>\n",
       "      <th>4</th>\n",
       "      <td>NO.5</td>\n",
       "      <td>1170.615756</td>\n",
       "    </tr>\n",
       "  </tbody>\n",
       "</table>\n",
       "</div>"
      ],
      "text/plain": [
       "  Variable          VIF\n",
       "0     NO.1  1218.404615\n",
       "1     NO.2    36.272237\n",
       "2     NO.3    10.642033\n",
       "3     NO.4     8.804177\n",
       "4     NO.5  1170.615756"
      ]
     },
     "execution_count": 11,
     "metadata": {},
     "output_type": "execute_result"
    }
   ],
   "source": [
    "norway_df = selected_zones.filter(like='NO.')\n",
    "vif_data = pd.DataFrame()\n",
    "vif_data[\"Variable\"] = norway_df.columns\n",
    "vif_data[\"VIF\"] = [variance_inflation_factor(norway_df.values, i) for i in range(norway_df.shape[1])]\n",
    "vif_data"
   ]
  },
  {
   "cell_type": "code",
   "execution_count": 12,
   "id": "acc15f93-1045-43cd-8bc6-0c52d1539743",
   "metadata": {},
   "outputs": [
    {
     "data": {
      "text/html": [
       "<div>\n",
       "<style scoped>\n",
       "    .dataframe tbody tr th:only-of-type {\n",
       "        vertical-align: middle;\n",
       "    }\n",
       "\n",
       "    .dataframe tbody tr th {\n",
       "        vertical-align: top;\n",
       "    }\n",
       "\n",
       "    .dataframe thead th {\n",
       "        text-align: right;\n",
       "    }\n",
       "</style>\n",
       "<table border=\"1\" class=\"dataframe\">\n",
       "  <thead>\n",
       "    <tr style=\"text-align: right;\">\n",
       "      <th></th>\n",
       "      <th>Variable</th>\n",
       "      <th>VIF</th>\n",
       "    </tr>\n",
       "  </thead>\n",
       "  <tbody>\n",
       "    <tr>\n",
       "      <th>0</th>\n",
       "      <td>SE.1</td>\n",
       "      <td>58.401749</td>\n",
       "    </tr>\n",
       "    <tr>\n",
       "      <th>1</th>\n",
       "      <td>SE.2</td>\n",
       "      <td>61.261546</td>\n",
       "    </tr>\n",
       "    <tr>\n",
       "      <th>2</th>\n",
       "      <td>SE.3</td>\n",
       "      <td>24.290472</td>\n",
       "    </tr>\n",
       "    <tr>\n",
       "      <th>3</th>\n",
       "      <td>SE.4</td>\n",
       "      <td>19.151038</td>\n",
       "    </tr>\n",
       "  </tbody>\n",
       "</table>\n",
       "</div>"
      ],
      "text/plain": [
       "  Variable        VIF\n",
       "0     SE.1  58.401749\n",
       "1     SE.2  61.261546\n",
       "2     SE.3  24.290472\n",
       "3     SE.4  19.151038"
      ]
     },
     "execution_count": 12,
     "metadata": {},
     "output_type": "execute_result"
    }
   ],
   "source": [
    "sweden_df = selected_zones.filter(like='SE.')\n",
    "vif_data = pd.DataFrame()\n",
    "vif_data[\"Variable\"] = sweden_df.columns\n",
    "vif_data[\"VIF\"] = [variance_inflation_factor(sweden_df.values, i) for i in range(sweden_df.shape[1])]\n",
    "vif_data"
   ]
  },
  {
   "cell_type": "code",
   "execution_count": 13,
   "id": "88ca8fbe-9a69-4fef-a9d9-6ac0e11d540c",
   "metadata": {},
   "outputs": [
    {
     "data": {
      "text/html": [
       "<div>\n",
       "<style scoped>\n",
       "    .dataframe tbody tr th:only-of-type {\n",
       "        vertical-align: middle;\n",
       "    }\n",
       "\n",
       "    .dataframe tbody tr th {\n",
       "        vertical-align: top;\n",
       "    }\n",
       "\n",
       "    .dataframe thead th {\n",
       "        text-align: right;\n",
       "    }\n",
       "</style>\n",
       "<table border=\"1\" class=\"dataframe\">\n",
       "  <thead>\n",
       "    <tr style=\"text-align: right;\">\n",
       "      <th></th>\n",
       "      <th>Variable</th>\n",
       "      <th>VIF</th>\n",
       "    </tr>\n",
       "  </thead>\n",
       "  <tbody>\n",
       "    <tr>\n",
       "      <th>0</th>\n",
       "      <td>AT</td>\n",
       "      <td>52.824865</td>\n",
       "    </tr>\n",
       "    <tr>\n",
       "      <th>1</th>\n",
       "      <td>DE.LU</td>\n",
       "      <td>52.824865</td>\n",
       "    </tr>\n",
       "  </tbody>\n",
       "</table>\n",
       "</div>"
      ],
      "text/plain": [
       "  Variable        VIF\n",
       "0       AT  52.824865\n",
       "1    DE.LU  52.824865"
      ]
     },
     "execution_count": 13,
     "metadata": {},
     "output_type": "execute_result"
    }
   ],
   "source": [
    "germany_df = selected_zones.loc[:, ['AT', 'DE.LU']]\n",
    "# Drop rows with missing values\n",
    "germany_df = germany_df.dropna()\n",
    "vif_data = pd.DataFrame()\n",
    "vif_data[\"Variable\"] = germany_df.columns\n",
    "vif_data[\"VIF\"] = [variance_inflation_factor(germany_df.values, i) for i in range(germany_df.shape[1])]\n",
    "vif_data"
   ]
  },
  {
   "cell_type": "markdown",
   "id": "9f057f0d-789c-415c-9c46-797f00bc1cba",
   "metadata": {},
   "source": [
    "**Aggregation for the treatment of multicollinearity**"
   ]
  },
  {
   "cell_type": "code",
   "execution_count": 14,
   "id": "e0de96c9-ce80-45c0-8ab0-82cf72fe0a7c",
   "metadata": {
    "tags": []
   },
   "outputs": [],
   "source": [
    "aggregation_df = selected_zones.copy()\n",
    "# List of country codes consisting of multiple bidding zones\n",
    "laenderkuerzel = ['IT', 'DK', 'NO', 'SE']\n",
    "\n",
    "# Iterate through each country code and calculate the average for the corresponding columns\n",
    "for kuerzel in laenderkuerzel:\n",
    "    # Filter columns that start with the current country code\n",
    "    spalten_mit_kuerzel = [spalte for spalte in selected_zones.columns if spalte.startswith(kuerzel)]\n",
    "    \n",
    "    # Create a new column with the average of the selected columns\n",
    "    aggregation_df[f'{kuerzel}'] = aggregation_df[spalten_mit_kuerzel].mean(axis=1)\n",
    "\n",
    "    # Delete the original columns\n",
    "    aggregation_df.drop(columns=spalten_mit_kuerzel, inplace=True)"
   ]
  },
  {
   "cell_type": "markdown",
   "id": "07881aca-9ce0-40dd-b4c7-3956bd8dedc6",
   "metadata": {},
   "source": [
    "**Aggregation: From the time series 'AT', 'DE.LU', 'DE.AT.LU', a time series 'DE.AT.LU' is created, which extends over the entire period.**"
   ]
  },
  {
   "cell_type": "code",
   "execution_count": 15,
   "id": "6473285d-9b2e-4cae-8f4f-4f7bd276dfb5",
   "metadata": {},
   "outputs": [],
   "source": [
    "aggregation_df['DE.AT.LU mean'] = aggregation_df[['AT', 'DE.LU', 'DE.AT.LU']].mean(axis=1)\n",
    "aggregation_df = aggregation_df.drop(['AT', 'DE.LU', 'DE.AT.LU'], axis=1)\n",
    "aggregation_df = aggregation_df.rename(columns={'DE.AT.LU mean': 'DE.AT.LU'})"
   ]
  },
  {
   "cell_type": "code",
   "execution_count": null,
   "id": "a68d6436-055e-453c-80c7-eff3f7e6cdc0",
   "metadata": {},
   "outputs": [],
   "source": [
    "# Sort the column names\n",
    "aggregation_df = aggregation_df.reindex(sorted(aggregation_df.columns), axis=1)"
   ]
  },
  {
   "cell_type": "code",
   "execution_count": 13,
   "id": "4f26c3c1-9e13-495a-a389-13a7d2f54861",
   "metadata": {},
   "outputs": [],
   "source": [
    "aggregation_df.to_csv(r'aggregation_df.csv', index=True)"
   ]
  },
  {
   "cell_type": "markdown",
   "id": "80ac7795-2c78-4214-b889-57c3fad1417e",
   "metadata": {},
   "source": [
    "**Calculate the first differences to achieve stationarity in the time series**"
   ]
  },
  {
   "cell_type": "code",
   "execution_count": 24,
   "id": "246a45b8-3a23-4c71-8770-918656f86918",
   "metadata": {},
   "outputs": [],
   "source": [
    "# Perform first difference for each column\n",
    "aggregation_diff_df = aggregation_df.apply(lambda x: x.diff())\n",
    "# Delete the first row in the DataFrame: The transformation has created NaN values in the first row\n",
    "aggregation_diff_df = aggregation_diff_df.drop(aggregation_diff_df.index[0])"
   ]
  },
  {
   "cell_type": "code",
   "execution_count": null,
   "id": "f1b05a24-fac8-40e6-aed9-a09a26da026b",
   "metadata": {},
   "outputs": [],
   "source": [
    "aggregation_diff_df.to_csv(r'aggregation_diff_df.csv', index=True)"
   ]
  },
  {
   "cell_type": "markdown",
   "id": "8a297647-97e5-4f39-bbfa-45edf75ebdd3",
   "metadata": {},
   "source": [
    "**Scaling and Standardizing: Z-Score Transformation**"
   ]
  },
  {
   "cell_type": "code",
   "execution_count": 15,
   "id": "774a1619-5866-4622-a01d-bbad2d793158",
   "metadata": {},
   "outputs": [],
   "source": [
    "# Create StandardScaler\n",
    "scaler = StandardScaler()\n",
    "\n",
    "# Perform scaling\n",
    "aggregation_diff_scaled_df = scaler.fit_transform(aggregation_diff_df)\n",
    "\n",
    "# Save scaled DataFrame\n",
    "aggregation_diff_scaled_df = pd.DataFrame(aggregation_diff_scaled_df, columns=aggregation_diff_df.columns, index=aggregation_diff_df.index)"
   ]
  },
  {
   "cell_type": "code",
   "execution_count": null,
   "id": "38a1f7aa-d95c-41c6-8772-3a547b788a5e",
   "metadata": {},
   "outputs": [],
   "source": [
    "aggregation_diff_scaled_df.to_csv(r'aggregation_diff_scaled_df.csv', index=True)"
   ]
  },
  {
   "cell_type": "markdown",
   "id": "3b78cbcb-02f0-4e0a-a4ec-2f8cd4f9e75f",
   "metadata": {},
   "source": [
    "**Plots of Day-ahead prices (daily)**"
   ]
  },
  {
   "cell_type": "code",
   "execution_count": 16,
   "id": "bfc9e0b2-7a21-41d7-a2fb-f3098dcedd76",
   "metadata": {},
   "outputs": [],
   "source": [
    "#Plot Day-ahead price data\n",
    "plot1= r'Day-ahead prices.pdf'\n",
    "plot_all_series_to_pdf(plot1, aggregation_df, \"€/MWh\", split_date= None, xlim_start='2016-12-01', xlim_end='2024-06-01')"
   ]
  },
  {
   "cell_type": "markdown",
   "id": "d191368f-53bf-4a52-bfc3-a7375db4b476",
   "metadata": {},
   "source": [
    "**Plots of scaled first differences**"
   ]
  },
  {
   "cell_type": "code",
   "execution_count": 65,
   "id": "f7ece777-3bf1-4cf0-bf56-64bdfe7c7227",
   "metadata": {},
   "outputs": [],
   "source": [
    "#Plot first differences\n",
    "plot2 = r'first diff scaled.pdf'\n",
    "plot_all_series_to_pdf(plot2, aggregation_diff_scaled_df,\"First-Differences\", split_date=None, xlim_start='2015-06-01', xlim_end='2024-06-01')"
   ]
  }
 ],
 "metadata": {
  "kernelspec": {
   "display_name": "Python 3 (ipykernel)",
   "language": "python",
   "name": "python3"
  },
  "language_info": {
   "codemirror_mode": {
    "name": "ipython",
    "version": 3
   },
   "file_extension": ".py",
   "mimetype": "text/x-python",
   "name": "python",
   "nbconvert_exporter": "python",
   "pygments_lexer": "ipython3",
   "version": "3.10.9"
  }
 },
 "nbformat": 4,
 "nbformat_minor": 5
}
