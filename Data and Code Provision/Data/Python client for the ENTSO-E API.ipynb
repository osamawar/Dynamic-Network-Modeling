{
 "cells": [
  {
   "cell_type": "markdown",
   "metadata": {},
   "source": [
    "## Preparation: Data"
   ]
  },
  {
   "cell_type": "markdown",
   "metadata": {},
   "source": [
    "The time series data for each zone’s prices are sourced from the ENTSO-E Transparency\n",
    "Platform (TP), an online data repository for European electricity system information established\n",
    "under Regulation (EU) No. 543/2013, known as the “Transparency Regulation”."
   ]
  },
  {
   "cell_type": "markdown",
   "metadata": {},
   "source": [
    "Python client for the ENTSO-E API (european network of transmission system operators for electricity) is used to source the data.\n",
    "Documentation of the API found on https://transparency.entsoe.eu/content/static_content/Static%20content/web%20api/Guide.html"
   ]
  },
  {
   "cell_type": "code",
   "execution_count": 1,
   "metadata": {},
   "outputs": [],
   "source": [
    "# Import packages\n",
    "import pandas as pd\n",
    "from entsoe import EntsoePandasClient, Area\n",
    "import numpy as np"
   ]
  },
  {
   "cell_type": "code",
   "execution_count": 2,
   "metadata": {},
   "outputs": [],
   "source": [
    "#Register client with api Key\n",
    "api_key=\"...\"\n",
    "client = EntsoePandasClient(api_key=api_key)"
   ]
  },
  {
   "cell_type": "markdown",
   "metadata": {},
   "source": [
    "Bidding Zones are identified using the EIC (Energy Identification Code). The EIC is a standardized system for uniquely identifying various entities involved in the energy market. Developed and maintained by the European Network of Transmission System Operators for Electricity (ENTSO-E), the EIC system helps in ensuring consistent and unambiguous identification of participants and locations within the energy sector across Europe."
   ]
  },
  {
   "cell_type": "code",
   "execution_count": 1,
   "metadata": {
    "tags": []
   },
   "outputs": [],
   "source": [
    "# Domain mappings\n",
    "DOMAIN_MAPPINGS = {\n",
    "    \n",
    "    # 'AL': '10YAL-KESH-----5', # no values on TP\n",
    "    'AT': '10YAT-APG------L', # from 30.09.2018 22:00\n",
    "    'BE': '10YBE----------2', # everything runs\n",
    "    # 'BA': '10YBA-JPCC-----D', # no values on TP\n",
    "    #'BG': '10YCA-BULGARIA-R', # from 31.10.2016 22:00\n",
    "    #'HR': '10YHR-HEP------M', # from 17.10.2017 22:00\n",
    "    # 'CY': '10YCY-1001A0003J', # no values on TP\n",
    "    'CZ': '10YCZ-CEPS-----N', # everything runs\n",
    "    \n",
    "    #'DK': '10Y1001A1001A65H', see below\n",
    "    \n",
    "    'EE': '10Y1001A1001A39I', # everything runs\n",
    "    'FI': '10YFI-1--------U', # everything runs\n",
    "    'FR': '10YFR-RTE------C', # everything runs\n",
    "    # 'GE': '10Y1001A1001B012', # no values on TP\n",
    "    \n",
    "    #'DE': '10Y1001A1001A83F', \n",
    "    # Germany formed a bidding zone with AT and LU until 30.09.2018 21:00.\n",
    "    'DE-AT-LU': '10Y1001A1001A63L', # everything runs\n",
    "    # From 30.09.2018 22:00, the bidding zone consists only of DE and LU. AT has separated, see above!\n",
    "    'DE-LU': '10Y1001A1001A82H', # everything runs\n",
    "    \n",
    "    \n",
    "    'GR': '10YGR-HTSO-----Y', # everything runs\n",
    "    'HU': '10YHU-MAVIR----U', # everything runs\n",
    "    #'IE': '10Y1001A1001A59C', # from 30.09.2018 22:00\n",
    "    \n",
    "     #'IT': '10YIT-GRTN-----B', see below\n",
    "    \n",
    "    # 'XK': '10Y1001C--00100H', # no values on TP\n",
    "    'LV': '10YLV-1001A00074', # everything runs\n",
    "    'LT': '10YLT-1001A0008Q', # everything runs\n",
    "    \n",
    "    #'LU': '10YLU-CEGEDEL-NQ',\n",
    "    # Luxembourg formed a bidding zone with AT and DE until 30.09.2018 21:00.\n",
    "    # From 30.09.2018 22:00, the bidding zone consists only of DE and LU. AT has separated!\n",
    "    \n",
    "    # 'MT': '10Y1001A1001A93C', # no values on TP\n",
    "    # 'MD': '10Y1001A1001A990', # no values on TP\n",
    "    #'ME': '10YCS-CG-TSO---S', # from 26.04.2018 22:00\n",
    "    'NL': '10YNL----------L', # everything runs\n",
    "    #'MK': '10YMK-MEPSO----8', # from 10.05.2023 22:00\n",
    "    \n",
    "    #'NO': '10YNO-0--------C', see below\n",
    "    \n",
    "    'PL': '10YPL-AREA-----S', # currency conversion necessary \n",
    "    'PT': '10YPT-REN------W', # everything runs\n",
    "    #'RO': '10YRO-TEL------P', # everything runs, too many outliers\n",
    "    #'RS': '10YCS-SERBIATSOV', # from 22.12.2016 23:00\n",
    "    'SK': '10YSK-SEPS-----K', # everything runs\n",
    "    'SI': '10YSI-ELES-----O', # everything runs\n",
    "    'ES': '10YES-REE------0', # everything runs\n",
    "    \n",
    "     #'SE': '10YSE-1--------K', see below\n",
    "    \n",
    "    'CH': '10YCH-SWISSGRIDZ', # everything runs\n",
    "    # 'TR': '10YTR-TEIAS----W', # no values on TP\n",
    "    \n",
    "    #'UA': '10YUA-WEPS-----0', see below\n",
    "\n",
    "    #'GB': '10YGB----------A', # Data available till 31.12.2020\n",
    "    #'GB-NIR': '10Y1001A1001A016', # no values on TP\n",
    "    \n",
    "    # Countries consisting of multiple bidding zones\n",
    "    \n",
    "    'IT-CALABRIA': '10Y1001C--00096J',\n",
    "    'IT-CNOR': '10Y1001A1001A70O',\n",
    "    'IT-CSUD': '10Y1001A1001A71M',\n",
    "    'IT-GR': '10Y1001A1001A66F', # IT-GR BZ\n",
    "    'IT-NORD': '10Y1001A1001A73I',\n",
    "    'IT-NORD-AT': '10Y1001A1001A80L',\n",
    "    'IT-NORD-CH': '10Y1001A1001A68B',\n",
    "    'IT-NORD-FR': '10Y1001A1001A81J',\n",
    "    'IT-NORD-SI': '10Y1001A1001A67D',\n",
    "    'IT-FOGN': '10Y1001A1001A72K', # IT-Foggia BZ\n",
    "    'IT-ROSN': '10Y1001A1001A77A', # IT-Rossano BZ\n",
    "    'IT-BRNN': '10Y1001A1001A699', # IT-Brindisi BZ\n",
    "    'IT-PRGP': '10Y1001A1001A76C', # IT-Priolo BZ\n",
    "    'IT-SACOAC': '10Y1001A1001A885',\n",
    "    'IT-SACODC': '10Y1001A1001A893',\n",
    "    'IT-SARD': '10Y1001A1001A74G',\n",
    "    'IT-SICI': '10Y1001A1001A75E',\n",
    "    'IT-SUD': '10Y1001A1001A788',\n",
    "    \n",
    "    \n",
    "    'NO-1': '10YNO-1--------2',\n",
    "    'NO-2': '10YNO-2--------T',\n",
    "    'NO-2NSL': '50Y0JVU59B4JWQCU', # virtual bidding zone\n",
    "    'NO-3': '10YNO-3--------J',\n",
    "    'NO-4': '10YNO-4--------9',\n",
    "    'NO-5': '10Y1001A1001A48H',\n",
    "    \n",
    "    'SE-1': '10Y1001A1001A44P',\n",
    "    'SE-2': '10Y1001A1001A45N',\n",
    "    'SE-3': '10Y1001A1001A46L',\n",
    "    'SE-4': '10Y1001A1001A47J',\n",
    "    \n",
    "    'DK-1': '10YDK-1--------W',\n",
    "    'DK-2': '10YDK-2--------M',\n",
    "    \n",
    "    #'UA-BEI': '10YUA-WEPS-----0', incomplete\n",
    "    #'UA-IPS': '10Y1001C--000182' incomplete\n",
    "    \n",
    "}"
   ]
  },
  {
   "cell_type": "markdown",
   "metadata": {},
   "source": [
    "## Full data\n",
    "First the data of all countries is aggregated and saved into a dataframe"
   ]
  },
  {
   "cell_type": "code",
   "execution_count": 4,
   "metadata": {},
   "outputs": [],
   "source": [
    "#Set year\n",
    "year = 2016\n",
    "#Start time\n",
    "start = pd.Timestamp(str(year)+'-04-29-T00', tz='UTC')\n",
    "#A few hours from the next year are needed, because the API does not work properly for UTC+1\n",
    "end = pd.Timestamp(str(year+8)+'-01-01-T00', tz='UTC')"
   ]
  },
  {
   "cell_type": "code",
   "execution_count": 5,
   "metadata": {},
   "outputs": [],
   "source": [
    "all_data=pd.DataFrame()\n",
    "countries_success=[]\n",
    "countries_missing=[]"
   ]
  },
  {
   "cell_type": "code",
   "execution_count": null,
   "metadata": {},
   "outputs": [],
   "source": [
    "for country_code in DOMAIN_MAPPINGS:\n",
    "    mapping = DOMAIN_MAPPINGS[country_code]\n",
    "    try:\n",
    "        # Get data for day-ahead prices for a single country\n",
    "        day_ahead_prices = client.query_day_ahead_prices(mapping, start=start, end=end)\n",
    "        day_ahead_prices = day_ahead_prices.drop(day_ahead_prices[day_ahead_prices.index.minute != 00].index)\n",
    "        day_ahead_prices = day_ahead_prices.tz_convert(\"UTC\")\n",
    "        #day_ahead_prices = day_ahead_prices.where(day_ahead_prices.index.year == year).dropna()\n",
    "\n",
    "    except Exception as error:\n",
    "        print(error)\n",
    "        print(\"Country excluded: \" + country_code)\n",
    "        countries_missing.append(country_code)\n",
    "    else:\n",
    "        # Create a DataFrame for day-ahead prices for this country\n",
    "        data_one_country = pd.DataFrame(day_ahead_prices)\n",
    "        data_one_country = data_one_country.rename(columns={0: \"Day_ahead_price\"})\n",
    "        data_one_country.insert(loc=0, column='Country', value=country_code)\n",
    "        data_one_country.insert(loc=0, column='Year', value=data_one_country.index.year)\n",
    "        #data_one_country.insert(loc=0, column='Index', value=data_one_country.index)\n",
    "\n",
    "        # Add day-ahead price data to the final DataFrame\n",
    "        all_data = pd.concat([all_data, data_one_country])\n",
    "\n",
    "        # Add the country code to the list of successful countries\n",
    "        countries_success.append(country_code)\n",
    "\n",
    "print(countries_success)\n"
   ]
  },
  {
   "cell_type": "markdown",
   "metadata": {
    "tags": []
   },
   "source": [
    "### Add single country\n",
    "If a single country is missing due to a connection error, it can be appended"
   ]
  },
  {
   "cell_type": "code",
   "execution_count": 7,
   "metadata": {
    "tags": []
   },
   "outputs": [],
   "source": [
    "# Specify das fehlende Land\n",
    "country_code = \"NO-1\"\n",
    "\n",
    "# Daten werden abgerufen und das Land wird hinzugefügt\n",
    "if country_code is not None:\n",
    "    mapping = DOMAIN_MAPPINGS[country_code]\n",
    "\n",
    "    try:\n",
    "        # Daten für ein einzelnes Land abrufen\n",
    "        # Nur Day-ahead-Preise abrufen\n",
    "        day_ahead_prices = client.query_day_ahead_prices(mapping, start=start, end=end)\n",
    "        day_ahead_prices = day_ahead_prices.drop(day_ahead_prices[day_ahead_prices.index.minute != 0].index)\n",
    "        day_ahead_prices = day_ahead_prices.tz_convert(\"UTC\")\n",
    "        #day_ahead_prices = day_ahead_prices.where(day_ahead_prices.index.year == year).dropna()\n",
    "\n",
    "        # Daten für Day-ahead-Preise in einen DataFrame einfügen\n",
    "        data_one_country = pd.DataFrame(day_ahead_prices)\n",
    "        data_one_country = data_one_country.rename(columns={0: \"Day_ahead_price\"})\n",
    "        data_one_country.insert(loc=0, column='Country', value=country_code)\n",
    "        data_one_country.insert(loc=0, column='Year', value=data_one_country.index.year)\n",
    "        #data_one_country.insert(loc=0, column='Index', value=data_one_country.index)\n",
    "\n",
    "        # Day-ahead-Preisdaten dem Gesamtdaten-DataFrame hinzufügen\n",
    "        all_data = pd.concat([all_data, data_one_country])\n",
    "\n",
    "        # Das Land zur Liste der erfolgreich abgerufenen Länder hinzufügen\n",
    "        countries_success.append(country_code)\n",
    "\n",
    "    except Exception as error:\n",
    "        print(error)\n",
    "        print(\"Country excluded: \" + country_code)\n",
    "        countries_missing.append(country_code)\n"
   ]
  },
  {
   "cell_type": "code",
   "execution_count": null,
   "metadata": {},
   "outputs": [],
   "source": [
    "all_data.to_csv('Data.csv', index=True)"
   ]
  }
 ],
 "metadata": {
  "kernelspec": {
   "display_name": "Python 3 (ipykernel)",
   "language": "python",
   "name": "python3"
  },
  "language_info": {
   "codemirror_mode": {
    "name": "ipython",
    "version": 3
   },
   "file_extension": ".py",
   "mimetype": "text/x-python",
   "name": "python",
   "nbconvert_exporter": "python",
   "pygments_lexer": "ipython3",
   "version": "3.10.9"
  },
  "toc": {
   "base_numbering": 1,
   "nav_menu": {},
   "number_sections": true,
   "sideBar": true,
   "skip_h1_title": false,
   "title_cell": "Table of Contents",
   "title_sidebar": "Contents",
   "toc_cell": false,
   "toc_position": {},
   "toc_section_display": true,
   "toc_window_display": false
  },
  "varInspector": {
   "cols": {
    "lenName": 16,
    "lenType": 16,
    "lenVar": 40
   },
   "kernels_config": {
    "python": {
     "delete_cmd_postfix": "",
     "delete_cmd_prefix": "del ",
     "library": "var_list.py",
     "varRefreshCmd": "print(var_dic_list())"
    },
    "r": {
     "delete_cmd_postfix": ") ",
     "delete_cmd_prefix": "rm(",
     "library": "var_list.r",
     "varRefreshCmd": "cat(var_dic_list()) "
    }
   },
   "types_to_exclude": [
    "module",
    "function",
    "builtin_function_or_method",
    "instance",
    "_Feature"
   ],
   "window_display": false
  }
 },
 "nbformat": 4,
 "nbformat_minor": 4
}
